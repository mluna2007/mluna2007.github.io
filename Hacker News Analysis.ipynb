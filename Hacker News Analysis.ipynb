{
 "cells": [
  {
   "cell_type": "markdown",
   "metadata": {
    "collapsed": true
   },
   "source": [
    "## Exploring Hacker News Posts ##\n",
    "\n",
    "The data set I'm using contains approximately 20,000 rows and is made up of Hackner News posts. \n",
    "We're specifically interested in posts whose titles begin with 'Ask HN' or 'Show HN'. The purpose of this project is to do analysis and determine which type of post receive the most comments and also which hours receive the most comments.\n",
    "\n",
    "- Ask HN: posts to ask the Hacker News community a specifc question\n",
    "- Show HN: posts to show the Hacker News community a project, product, or generally something interesting. "
   ]
  },
  {
   "cell_type": "code",
   "execution_count": 41,
   "metadata": {
    "scrolled": true
   },
   "outputs": [
    {
     "name": "stdout",
     "output_type": "stream",
     "text": [
      "[['12224879', 'Interactive Dynamic Video', 'http://www.interactivedynamicvideo.com/', '386', '52', 'ne0phyte', '8/4/2016 11:52'], ['10975351', 'How to Use Open Source and Shut the Fuck Up at the Same Time', 'http://hueniverse.com/2016/01/26/how-to-use-open-source-and-shut-the-fuck-up-at-the-same-time/', '39', '10', 'josep2', '1/26/2016 19:30'], ['11964716', \"Florida DJs May Face Felony for April Fools' Water Joke\", 'http://www.thewire.com/entertainment/2013/04/florida-djs-april-fools-water-joke/63798/', '2', '1', 'vezycash', '6/23/2016 22:20'], ['11919867', 'Technology ventures: From Idea to Enterprise', 'https://www.amazon.com/Technology-Ventures-Enterprise-Thomas-Byers/dp/0073523429', '3', '1', 'hswarna', '6/17/2016 0:01'], ['10301696', 'Note by Note: The Making of Steinway L1037 (2007)', 'http://www.nytimes.com/2007/11/07/movies/07stein.html?_r=0', '8', '2', 'walterbell', '9/30/2015 4:12']]\n"
     ]
    }
   ],
   "source": [
    "from csv import reader\n",
    "\n",
    "# open and read the file\n",
    "opened_file = open('hacker_news.csv')\n",
    "\n",
    "read_file = reader(opened_file)\n",
    "hn = list(read_file)\n",
    "opened_file.close()\n",
    "\n",
    "#create a header variable\n",
    "#remove the header from the hn list\n",
    "header = hn[0]\n",
    "hn = hn[1:]\n",
    "\n",
    "print(hn[0:5])"
   ]
  },
  {
   "cell_type": "markdown",
   "metadata": {},
   "source": [
    "### Create lists for each post type\n",
    "I want to separate the post types in order to determine the total of each type of post. I am specifically looking for 'ask hn' and 'show hn' posts. \n",
    "This will be useful in the next the step for calculating the average number of comments for each post type. "
   ]
  },
  {
   "cell_type": "code",
   "execution_count": 42,
   "metadata": {},
   "outputs": [
    {
     "name": "stdout",
     "output_type": "stream",
     "text": [
      "Number of Ask HN posts: 1744\n",
      "Number of Show HN posts: 1162\n",
      "Number of Other posts: 17194\n"
     ]
    }
   ],
   "source": [
    "ask_posts = []\n",
    "show_posts = []\n",
    "other_posts = []\n",
    "\n",
    "#loops through hn and search for 'ask hn' or 'show hn' posts\n",
    "#finds the total number of each type of post\n",
    "for row in hn:\n",
    "    title = row[1].lower()\n",
    "    if title.startswith('ask hn'):\n",
    "        ask_posts.append(row)\n",
    "    elif title.startswith('show hn'):\n",
    "        show_posts.append(row)\n",
    "    else:\n",
    "        other_posts.append(row)\n",
    "print('Number of Ask HN posts:',len(ask_posts))\n",
    "print('Number of Show HN posts:', len(show_posts))\n",
    "print('Number of Other posts:', len(other_posts))"
   ]
  },
  {
   "cell_type": "markdown",
   "metadata": {},
   "source": [
    "### Calculate the average number of comments \n",
    "The next two cells will loop through the ask_posts and show_posts lists to find the total number of comments for each type of post. Then I will divide the total number of comments by the total number of posts to determine the average number of comments for each post.  "
   ]
  },
  {
   "cell_type": "code",
   "execution_count": 43,
   "metadata": {},
   "outputs": [
    {
     "name": "stdout",
     "output_type": "stream",
     "text": [
      "The avgerage number of comments on a Ask post is: 14.04\n"
     ]
    }
   ],
   "source": [
    "total_ask_comments = 0\n",
    "\n",
    "#loop through ask_posts to determine the total number of comments\n",
    "for row in ask_posts:\n",
    "    num_comments = int(row[4])\n",
    "    total_ask_comments += num_comments\n",
    "\n",
    "avg_ask_comments = round(total_ask_comments/len(ask_posts), 2)\n",
    "\n",
    "print(\"The avgerage number of comments on a Ask post is:\", avg_ask_comments)\n",
    "    "
   ]
  },
  {
   "cell_type": "code",
   "execution_count": 44,
   "metadata": {},
   "outputs": [
    {
     "name": "stdout",
     "output_type": "stream",
     "text": [
      "The average number of comments on a Show post is: 10.32\n"
     ]
    }
   ],
   "source": [
    "total_show_comments = 0\n",
    "for row in show_posts:\n",
    "    num_comments = int(row[4])\n",
    "    total_show_comments += num_comments\n",
    "\n",
    "avg_show_comments = round(total_show_comments/len(show_posts), 2)\n",
    "print('The average number of comments on a Show post is:', avg_show_comments)\n"
   ]
  },
  {
   "cell_type": "markdown",
   "metadata": {},
   "source": [
    "So far I've been able to determine that 'ask hn' posts receive the most amount of comments. I will now just focus on 'ask hn' posts and determine the hours that posts are most likely to receive the most comments. "
   ]
  },
  {
   "cell_type": "code",
   "execution_count": 45,
   "metadata": {},
   "outputs": [
    {
     "name": "stdout",
     "output_type": "stream",
     "text": [
      "['8/16/2016 9:55', 6]\n"
     ]
    }
   ],
   "source": [
    "result_list = []\n",
    "#extract the timestamp from each post in the ask_post list\n",
    "#take the number of comments for each post\n",
    "#append the results to the result_list as a list\n",
    "for row in ask_posts:\n",
    "    created_at = row[6]\n",
    "    num_comments = int(row[4])\n",
    "    post_list = [created_at, num_comments]\n",
    "    result_list.append(post_list)\n",
    "#prints and example of how the result_list is structured\n",
    "print(result_list[0])"
   ]
  },
  {
   "cell_type": "markdown",
   "metadata": {},
   "source": [
    "### Extracting the hour the post was created\n",
    "I created two dictionaries for:\n",
    "- counts by hour\n",
    "- comments by hour\n",
    "I loop through the result_list created in the cell above. I create a datetime object to then pull the hour the post was created. I then assign each hour as a key in for both dictionaries and find the counts and comments for each hour. "
   ]
  },
  {
   "cell_type": "code",
   "execution_count": 46,
   "metadata": {},
   "outputs": [
    {
     "name": "stdout",
     "output_type": "stream",
     "text": [
      "{9: 45, 13: 85, 10: 59, 14: 107, 16: 108, 23: 68, 12: 73, 17: 100, 15: 116, 21: 109, 20: 80, 2: 58, 18: 109, 3: 54, 5: 46, 19: 110, 1: 60, 22: 71, 8: 48, 4: 47, 0: 55, 6: 44, 7: 34, 11: 58}\n",
      "{9: 251, 13: 1253, 10: 793, 14: 1416, 16: 1814, 23: 543, 12: 687, 17: 1146, 15: 4477, 21: 1745, 20: 1722, 2: 1381, 18: 1439, 3: 421, 5: 464, 19: 1188, 1: 683, 22: 479, 8: 492, 4: 337, 0: 447, 6: 397, 7: 267, 11: 641}\n"
     ]
    }
   ],
   "source": [
    "import datetime as dt\n",
    "\n",
    "counts_by_hour = {}\n",
    "comments_by_hour = {}\n",
    "\n",
    "for row in result_list:\n",
    "    date = row[0]\n",
    "    date_str = dt.datetime.strptime(date, '%m/%d/%Y %H:%M')\n",
    "    hour = date_str.hour\n",
    "    if hour not in counts_by_hour:\n",
    "        counts_by_hour[hour] = 1\n",
    "        comments_by_hour[hour] = row[1]\n",
    "    else:\n",
    "        counts_by_hour[hour] += 1\n",
    "        comments_by_hour[hour] += row[1]\n",
    "\n",
    "print(counts_by_hour)\n",
    "print(comments_by_hour)"
   ]
  },
  {
   "cell_type": "markdown",
   "metadata": {},
   "source": [
    "### Store the average number of comments by hour\n",
    "I take the sum of the total comments in the comments_by_hour dictionary. I use the hour to match between both dictionaries and with the number of posts found, I am able to find the average of comments made by the hour. "
   ]
  },
  {
   "cell_type": "code",
   "execution_count": 47,
   "metadata": {},
   "outputs": [
    {
     "name": "stdout",
     "output_type": "stream",
     "text": [
      "[[9, 5.5777777777777775], [13, 14.741176470588234], [10, 13.440677966101696], [14, 13.233644859813085], [16, 16.796296296296298], [23, 7.985294117647059], [12, 9.41095890410959], [17, 11.46], [15, 38.5948275862069], [21, 16.009174311926607], [20, 21.525], [2, 23.810344827586206], [18, 13.20183486238532], [3, 7.796296296296297], [5, 10.08695652173913], [19, 10.8], [1, 11.383333333333333], [22, 6.746478873239437], [8, 10.25], [4, 7.170212765957447], [0, 8.127272727272727], [6, 9.022727272727273], [7, 7.852941176470588], [11, 11.051724137931034]]\n"
     ]
    }
   ],
   "source": [
    "avg_by_hour_list = []\n",
    "total_comments = sum(comments_by_hour.values())\n",
    "for hour in comments_by_hour:\n",
    "    num_of_comments = comments_by_hour[hour]\n",
    "    num_of_posts = counts_by_hour[hour]\n",
    "    avg_by_hour = num_of_comments/num_of_posts\n",
    "    comment_list = [hour, avg_by_hour]\n",
    "    avg_by_hour_list.append(comment_list)\n",
    "\n",
    "print(avg_by_hour_list)"
   ]
  },
  {
   "cell_type": "markdown",
   "metadata": {},
   "source": [
    "### Swap the avg_by_hour list for sorting\n",
    "I need to swap the values in the avg_by_hour list to find the hours with the highest averages. This is done by changing the order the values are listed and sorting the values in reverse order."
   ]
  },
  {
   "cell_type": "code",
   "execution_count": 48,
   "metadata": {},
   "outputs": [
    {
     "name": "stdout",
     "output_type": "stream",
     "text": [
      "Top 5 Hours for Ask Posts Comments\n"
     ]
    }
   ],
   "source": [
    "swap_avg_by_hour = []\n",
    "\n",
    "for row in avg_by_hour_list:\n",
    "    avg = row[1]\n",
    "    hour = row[0]\n",
    "    new_list = [avg, hour]\n",
    "    swap_avg_by_hour.append(new_list)\n",
    "sorted_swap = sorted(swap_avg_by_hour,reverse = True)\n",
    "print(\"Top 5 Hours for Ask Posts Comments\")"
   ]
  },
  {
   "cell_type": "markdown",
   "metadata": {},
   "source": [
    "### Find the top five hours to post\n",
    "I print the top five values found after sorting the values and printing them  in a string. If a user is wanting to get the most comments on a post, it is best to post a 'Ask Hn' post during these hours. "
   ]
  },
  {
   "cell_type": "code",
   "execution_count": 59,
   "metadata": {
    "scrolled": false
   },
   "outputs": [
    {
     "name": "stdout",
     "output_type": "stream",
     "text": [
      "15:00: 38.59 average comments per post.\n",
      "02:00: 23.81 average comments per post.\n",
      "20:00: 21.52 average comments per post.\n",
      "16:00: 16.80 average comments per post.\n",
      "21:00: 16.01 average comments per post.\n"
     ]
    }
   ],
   "source": [
    "top_five_hours_list = sorted_swap[0:5]\n",
    "\n",
    "for x in top_five_hours_list:\n",
    "    hour = dt.time(x[1])\n",
    "    hour_str = hour.strftime(\"%H:%M\")\n",
    "    avg_comments = x[0]\n",
    "    template = \"{0}: {avg_comments:.2f} average comments per post.\".format(hour_str, avg_comments = avg_comments)\n",
    "    print(template)"
   ]
  }
 ],
 "metadata": {
  "kernelspec": {
   "display_name": "Python 3",
   "language": "python",
   "name": "python3"
  },
  "language_info": {
   "codemirror_mode": {
    "name": "ipython",
    "version": 3
   },
   "file_extension": ".py",
   "mimetype": "text/x-python",
   "name": "python",
   "nbconvert_exporter": "python",
   "pygments_lexer": "ipython3",
   "version": "3.8.2"
  }
 },
 "nbformat": 4,
 "nbformat_minor": 2
}
